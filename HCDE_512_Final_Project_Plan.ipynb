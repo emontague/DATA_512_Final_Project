{
 "cells": [
  {
   "cell_type": "markdown",
   "metadata": {},
   "source": [
    "## Exploring Seattle Weather: It's snowing in November???\n",
    "- Final Project Plan for UW HCDE 512 class \n",
    "- By: Libby Montague \n",
    "- Date: 11/5/2017 "
   ]
  },
  {
   "cell_type": "markdown",
   "metadata": {},
   "source": [
    "### Motivation/Introduction\n",
    "    Climate change is hotly discussed in the global media (1). The change on a global level also impacts the Pacific Northwest (2). There are studies on a global and regional level. Scientist and citizen scientists can explore weather changes on NOAA weather (3). In this study, these global indicators will be examined in the Seattle area. In conjunction with previous research, this study aims to better understand these climate changes. By analyzing observed weather patterns in the Seattle area, this study aims to understand the potentially changing weather patterns.  \n",
    "    This study will follow human centered data science principles. The research methods will be reproducible and replicable. There will be sufficient information to gather the same data or complete the same analyses on different data. The data is available through NOAA. \n",
    "    Additionally, the biases in the data will be considered. The data are sourced from instruments that measure weather data. Different stations will be compared and the differences between them will be considered. There may also be biases in where the stations are located. \n",
    "    Finally, the impact to human life must be considered. When scientific studies are published, they are interpreted and portrayed in the media. For instance, the way that the media portrayed the health benefits of coconut oil had to be corrected by the American Heart Association because of misinterpretation of a scientific study (4,5). Additionally, Cliff Mass, a University of Washington based meterologist, notes that the media portrays extremes of weather changes and doesn't accurately represent the scientific studies. Therefore, this study will be presented in an understandable way that clearly states assumptions and reduces misinterpretation. \n",
    "    In Third National Climate Assessment, there are 10 climate change indicators (see figure below) (6). These indicators are on a global scale. This study will examine three of the indicators 'Temperature Over Land,' 'Air Temperature Near Surface', and 'Snow Cover' in the Seattle Area. "
   ]
  },
  {
   "cell_type": "markdown",
   "metadata": {},
   "source": [
    "#### References:\n",
    "1. (2017). Syria to join Paris accord, isolating US. BBC News. http://www.bbc.com/news/world-middle-east-41904650?intlink_from_url=http://www.bbc.com/news/topics/e6369e45-f838-49cc-b5ac-857ed182e549/climate-change&link_location=live-reporting-story\n",
    "2. Mass, C. (2017). Cliff Mass Weather and Climate Blog: How Will Human-Forced Climate Change Affect the Pacific Northwest? http://cliffmass.blogspot.com/2017/08/how-will-human-forced-climate-change.html \n",
    "3. https://www.ncdc.noaa.gov/cag/mapping/global\n",
    "4. May, A. (2017). Coconut oil isn’t healthy. It’s never been healthy. USA TODAY. https://www.usatoday.com/story/news/nation-now/2017/06/16/coconut-oil-isnt-healthy-its-never-been-healthy/402719001/\n",
    "5. Sacks, F.M., Lichtenstein, A.H., Wu, J.H.Y., Appel, L.J., Creager, M.A., Kris-Etherton, P.M., Miller, M., Rimm, E.B., Rudel, L.L., Robinson, J.G., et al. (2017). Dietary Fats and Cardiovascular Disease: A Presidential Advisory From the American Heart Association. Circulation CIR.0000000000000510.http://circ.ahajournals.org/content/early/2017/06/15/CIR.0000000000000510\n",
    "6. (2014). Climate Change Impacts in the United States: The Third National Climate Assessment (Washington, DC: U.S. Global Change Research Program). http://nca2014.globalchange.gov "
   ]
  },
  {
   "cell_type": "code",
   "execution_count": 29,
   "metadata": {
    "collapsed": false
   },
   "outputs": [
    {
     "data": {
      "text/html": [
       "<img src = \"C:/Users/Libby/Documents/DATA_512/ch02_html_2d17883a.png\", width=700, height=700>"
      ],
      "text/plain": [
       "<IPython.core.display.HTML object>"
      ]
     },
     "metadata": {},
     "output_type": "display_data"
    }
   ],
   "source": [
    "%%html\n",
    "<img src = \"C:/Users/Libby/Documents/DATA_512/ch02_html_2d17883a.png\", width=700, height=700>"
   ]
  },
  {
   "cell_type": "markdown",
   "metadata": {},
   "source": [
    "### Research Questions: \n",
    "- How do Seattle's hourly temperatures differ from the 30 year average (citation)?\n",
    "- What are the seasonal trends in Seattle's daily temperatures? How have they changed?\n",
    "- How different are weather stations around Seattle? Are there any changes in these differences over time?\n",
    "- How often does Seattle get snow? Have the number of occurances changed over time? \n",
    "- How much rain does Seattle get? Has the amount changed over time?"
   ]
  },
  {
   "cell_type": "markdown",
   "metadata": {},
   "source": [
    "### Hypothesis:\n",
    "- Seattle's hourly temperatures will have a larger difference from the 30 year average in the past 10 years. \n",
    "- There will be seasonable trends in daily temperatures.\n",
    "- The seasonable trends will be more extreme in the past 10 years. \n",
    "- There will be some difference in daily temperatures at weather stations around Seattle. \n",
    "- The differences observed (daily temperature variation from 30 year average and difference in seasonality) will not differ accross weather stations. \n",
    "- The number of days with snow is increasing. \n",
    "- The amount of rain that Seattle gets is decreasing. "
   ]
  },
  {
   "cell_type": "markdown",
   "metadata": {},
   "source": [
    "### Data Sources: - include licensing\n",
    "    The data will be sourced from the NOAA Daily Summaries. The data is free and the citation is included below along with links to the documentation. There are options to download data for specific timeframes and stations or the data can be downloaded from an API (see citations below). Both methods are still being considered for this study.\n",
    "    The data includes daily values for components including 5 main components: PRCP (percipitation), SNOW (snowfall), SNWD (snow depth), TMAX (max temperature), TMIN (min temperature) (pdf from NOAA). These 5 components will be sufficient to answer the reserach questions highlighted above. Additionally, there is geographical information about each of the stations. "
   ]
  },
  {
   "cell_type": "markdown",
   "metadata": {},
   "source": [
    "#### Brief Data Exploration:"
   ]
  },
  {
   "cell_type": "code",
   "execution_count": 8,
   "metadata": {
    "collapsed": true
   },
   "outputs": [],
   "source": [
    "# import libraries\n",
    "import pandas as pd\n",
    "import numpy as nm\n",
    "# store the working directory \n",
    "working_folder='{insert your working directory}'"
   ]
  },
  {
   "cell_type": "markdown",
   "metadata": {},
   "source": [
    "- List the first couple stations in the dataset:"
   ]
  },
  {
   "cell_type": "code",
   "execution_count": 7,
   "metadata": {
    "collapsed": false
   },
   "outputs": [
    {
     "data": {
      "text/plain": [
       "array(['AUBURN 8.2 SE, WA US', 'BAINBRIDGE ISLAND 2.4 SW, WA US',\n",
       "       'BAINBRIDGE ISLAND 2.6 NNW, WA US',\n",
       "       'BAINBRIDGE ISLAND 2.6 NW, WA US', 'BELFAIR 3.2 WSW, WA US',\n",
       "       'BELLEVUE 1.1 SE, WA US', 'BELLEVUE 1.8 W, WA US',\n",
       "       'BELLEVUE 2.3 SSE, WA US', 'BOTHELL 4.9 NNW, WA US',\n",
       "       'BOTHELL 5.4 N, WA US'], dtype=object)"
      ]
     },
     "execution_count": 7,
     "metadata": {},
     "output_type": "execute_result"
    }
   ],
   "source": [
    "# stations cities - doesn't quit work - may need regularized \n",
    "weather_data=pd.read_csv(working_folder+'{insert the name of your .csv file with the daily summaries data}')\n",
    "nm.unique(weather_data.NAME)[0:10]"
   ]
  },
  {
   "cell_type": "markdown",
   "metadata": {},
   "source": [
    "- Start to plot the data. Explore some of the numerical data. The perceptation and snow are skewed to the left. This will need to be considered during the analysis."
   ]
  },
  {
   "cell_type": "code",
   "execution_count": 28,
   "metadata": {
    "collapsed": false
   },
   "outputs": [
    {
     "data": {
      "text/plain": [
       "array([[<matplotlib.axes._subplots.AxesSubplot object at 0x0000024EC1D577F0>,\n",
       "        <matplotlib.axes._subplots.AxesSubplot object at 0x0000024EC1DC0978>],\n",
       "       [<matplotlib.axes._subplots.AxesSubplot object at 0x0000024EC1E0CDA0>,\n",
       "        <matplotlib.axes._subplots.AxesSubplot object at 0x0000024EC1E4F518>]], dtype=object)"
      ]
     },
     "execution_count": 28,
     "metadata": {},
     "output_type": "execute_result"
    },
    {
     "data": {
      "image/png": "[encoded data removed]",
      "text/plain": [
       "<matplotlib.figure.Figure at 0x24ec1d70080>"
      ]
     },
     "metadata": {},
     "output_type": "display_data"
    }
   ],
   "source": [
    "# look at the distribution of percepitation\n",
    "# issue with the labels\n",
    "## plot within the jupyter notebook\n",
    "%matplotlib inline\n",
    "weather_data.loc[:,('PRCP','SNOW','TMAX','TMIN')].hist()"
   ]
  },
  {
   "cell_type": "markdown",
   "metadata": {},
   "source": [
    "- Now look at the amount of missing data in one of the columns. There is a lot of missing maximum temperature data. These missing values will need to be handled during the analysis. "
   ]
  },
  {
   "cell_type": "code",
   "execution_count": 69,
   "metadata": {
    "collapsed": false
   },
   "outputs": [
    {
     "data": {
      "text/plain": [
       "'Missing tempature max values in the dataset: 87.0%'"
      ]
     },
     "execution_count": 69,
     "metadata": {},
     "output_type": "execute_result"
    }
   ],
   "source": [
    "# lots of missing data - need to decide what to do with... \n",
    "# specifically max temperature \n",
    "per_na=round(nm.mean(nm.isnan(weather_data.TMAX)),2)*100\n",
    "'Missing tempature max values in the dataset: '+str(per_na)+'%'"
   ]
  },
  {
   "cell_type": "markdown",
   "metadata": {},
   "source": [
    "### Additional Information about the Data:\n",
    "- API access for Daily Summaries: https://www.ncdc.noaa.gov/cdo-web/webservices/v2#locations\n",
    "- Download access for Daily Summaries: https://www.ncdc.noaa.gov/cdo-web/search?datasetid=GHCND\n",
    "- Documentation about the Daily Summaries: https://www1.ncdc.noaa.gov/pub/data/cdo/documentation/GHCND_documentation.pdf\n",
    "- Additional documentation about the Daily Summaries: https://www1.ncdc.noaa.gov/pub/data/ghcn/daily/readme.txt\n",
    "- Citation\n",
    "    - Menne, M.J., I. Durre, B. Korzeniewski, S. McNeal, K. Thomas, X. Yin, S. Anthony, R. Ray, R.S. Vose, B.E.Gleason, and T.G. Houston, 2012: Global Historical Climatology Network - Daily (GHCN-Daily), Version 3.22. NOAA National Climatic Data Center. http://doi.org/10.7289/V5D21VHZ 11/7/2017."
   ]
  },
  {
   "cell_type": "markdown",
   "metadata": {},
   "source": [
    "### Analytical Methods: "
   ]
  },
  {
   "cell_type": "markdown",
   "metadata": {
    "collapsed": true
   },
   "source": [
    "1. How do Seattle's hourly temperatures differ from the 30 year average (citation)?\n",
    "    - For this analysis, I will calculate the average daily minimum and maximum temperature for each day across the past 30 days. I will start with one representative station. These values will then be compared to the current year's daily minimum and maximum values. \n",
    "    - Additionally, I will explore wether the 30 year average is an accurate representation of the 'normal' weather. \n",
    "2. What are the seasonal trends in Seattle's daily temperatures? How have they changed?\n",
    "    - I will compare seasonal weather trends to previous years. For this analysis, I will start with a representative station. \n",
    "3. How different are weather stations around Seattle? Are there any changes in these differences over time?\n",
    "    - I will answer the last two questions for different stations around the Seattle area. \n",
    "    - In this analysis, I will also consider biases in locations of stations. \n",
    "4. How often does Seattle get snow? Have the number of occurances changed over time?\n",
    "    - I will count occurances of snow in Seattle over time. Depending on the result of question 3, I may look at multiple or one station. \n",
    "5. How much rain does Seattle get? Has the amount changed over time?\n",
    "    - For this last analysis, I will consider the amount of percipitation over time. [Comparison with the Cliff Mass article]"
   ]
  },
  {
   "cell_type": "markdown",
   "metadata": {},
   "source": [
    "### Limitations: \n",
    "- This analysis is completed by a data scientist not a meterologist. \n",
    "- The conclusions are limited to a assumptions made. They are also limited by the data available. \n",
    "- The analysis completed are merely attempting to understand the past, they give no predictions about the future. "
   ]
  }
 ],
 "metadata": {
  "kernelspec": {
   "display_name": "Python [conda root]",
   "language": "python",
   "name": "conda-root-py"
  },
  "language_info": {
   "codemirror_mode": {
    "name": "ipython",
    "version": 3
   },
   "file_extension": ".py",
   "mimetype": "text/x-python",
   "name": "python",
   "nbconvert_exporter": "python",
   "pygments_lexer": "ipython3",
   "version": "3.5.2"
  }
 },
 "nbformat": 4,
 "nbformat_minor": 2
}
